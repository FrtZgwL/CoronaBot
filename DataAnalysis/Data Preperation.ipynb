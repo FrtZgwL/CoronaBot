{
 "cells": [
  {
   "cell_type": "markdown",
   "metadata": {},
   "source": [
    "<h1 style=\"color:#069\">Data Preperation - Description</h1>\n",
    "\n",
    "<h2 style=\"color:#777\">Data Organisation</h2>\n",
    "\n",
    "The Data will be organized into 10 Data Frames. \n",
    "\n",
    "* 4 Data frames for deaths , infected, active, and recovered cases per country\n",
    "* 4 Data frames for the data above in relation to the countries population counts\n",
    "* 1 Data Frame with the Total population counts of the countries that we are regarding\n",
    "* 1 Data Frame with the average deaths per year for each country\n",
    "\n",
    "The first 8 Data frames will be time series. The data updates from the John Hopkins Universety will be added to the time series by the data updater. To generate the plots, The data manager just has to extract the right rows from the time series. "
   ]
  },
  {
   "cell_type": "markdown",
   "metadata": {},
   "source": [
    "## Imports"
   ]
  },
  {
   "cell_type": "code",
   "execution_count": 13,
   "metadata": {},
   "outputs": [],
   "source": [
    "import pandas as pd\n",
    "import pickle"
   ]
  },
  {
   "cell_type": "markdown",
   "metadata": {},
   "source": [
    "## Country Names\n",
    "\n",
    "### Check data for consistancy\n",
    "\n",
    "We first need to check to what extent the country names are consistent in our data set. To do that we need to compute which names in the jh-data are not represented in the population data and which aren't in the deathrate data:"
   ]
  },
  {
   "cell_type": "code",
   "execution_count": 17,
   "metadata": {},
   "outputs": [
    {
     "name": "stdout",
     "output_type": "stream",
     "text": [
      "These names are in jh but not in emojis:\n",
      " ['Antigua and Barbuda', 'Bosnia and Herzegovina', 'Cabo Verde', \"Cote d'Ivoire\", 'Diamond Princess', 'Holy See', 'Saint Kitts and Nevis', 'Saint Lucia', 'Saint Vincent and the Grenadines', 'Trinidad and Tobago', 'West Bank and Gaza', 'Burma', 'MS Zaandam', 'Sao Tome and Principe']\n",
      "\n",
      "\n",
      "These names are in emojis but not in jh:\n",
      " ['Ascension Island', 'World', 'Antigua & Barbuda', 'Anguilla', 'Antarctica', 'American Samoa', 'Aruba', 'Åland Islands', 'Bosnia & Herzegovina', 'St. Barthélemy', 'Bermuda', 'Caribbean Netherlands', 'Bouvet Island', 'Cocos (Keeling) Islands', 'Côte d’Ivoire', 'Cook Islands', 'Clipperton Island', 'Cape Verde', 'Curaçao', 'Christmas Island', 'Diego Garcia', 'Ceuta & Melilla', 'Falkland Islands', 'Micronesia', 'Faroe Islands', 'French Guiana', 'Guernsey', 'Gibraltar', 'Greenland', 'Guadeloupe', 'South Georgia & South Sandwich Islands', 'Guam', 'Hong Kong SAR China', 'Heard & McDonald Islands', 'Canary Islands', 'Isle of Man', 'British Indian Ocean Territory', 'Jersey', 'Kiribati', 'Comoros', 'St. Kitts & Nevis', 'Korea, North', 'Cayman Islands', 'St. Lucia', 'Lesotho', 'St. Martin', 'Marshall Islands', 'Myanmar (Burma)', 'Macao Sar China', 'Northern Mariana Islands', 'Martinique', 'Montserrat', 'New Caledonia', 'Norfolk Island', 'Nauru', 'Niue', 'French Polynesia', 'St. Pierre & Miquelon', 'Pitcairn Islands', 'Puerto Rico', 'Palestinian Territories', 'Palau', 'Réunion', 'Solomon Islands', 'St. Helena', 'Svalbard & Jan Mayen', 'São Tomé & Príncipe', 'Sint Maarten', 'Tristan Da Cunha', 'Turks & Caicos Islands', 'French Southern Territories', 'Tajikistan', 'Tokelau', 'Turkmenistan', 'Tonga', 'Trinidad & Tobago', 'Tuvalu', 'U.S. Outlying Islands', 'United Nations', 'Vatican City', 'St. Vincent & Grenadines', 'British Virgin Islands', 'U.S. Virgin Islands', 'Vanuatu', 'Wallis & Futuna', 'Samoa', 'Mayotte']\n",
      "\n",
      "\n",
      "These names are in jh but not in population:\n",
      " ['Brunei', 'Congo (Brazzaville)', 'Congo (Kinshasa)', \"Cote d'Ivoire\", 'Diamond Princess', 'Saint Kitts and Nevis', 'Saint Vincent and the Grenadines', 'West Bank and Gaza', 'Kosovo', 'Burma', 'MS Zaandam', 'Sao Tome and Principe']\n",
      "\n",
      "\n",
      "These names are in population but not in jh:\n",
      " ['DR Congo', 'Myanmar', \"Côte d'Ivoire\", 'Korea, North', 'Tajikistan', 'Hong Kong', 'Turkmenistan', 'Congo', 'State of Palestine', 'Puerto Rico', 'Lesotho', 'Réunion', 'Comoros', 'Solomon Islands', 'Macao', 'Brunei ', 'Guadeloupe', 'Martinique', 'Vanuatu', 'French Guiana', 'New Caledonia', 'French Polynesia', 'Mayotte', 'Sao Tome & Principe', 'Samoa', 'Channel Islands', 'Guam', 'Curaçao', 'Kiribati', 'Micronesia', 'St. Vincent & Grenadines', 'Aruba', 'Tonga', 'U.S. Virgin Islands', 'Isle of Man', 'Cayman Islands', 'Bermuda', 'Marshall Islands', 'Northern Mariana Islands', 'Greenland', 'American Samoa', 'Saint Kitts & Nevis', 'Faeroe Islands', 'Sint Maarten', 'Turks and Caicos', 'Saint Martin', 'Gibraltar', 'British Virgin Islands', 'Caribbean Netherlands', 'Palau', 'Cook Islands', 'Anguilla', 'Tuvalu', 'Wallis & Futuna', 'Nauru', 'Saint Barthelemy', 'Saint Helena', 'Saint Pierre & Miquelon', 'Montserrat', 'Falkland Islands', 'Niue', 'Tokelau']\n",
      "\n",
      "\n",
      "These names are in jh but not in death_rates:\n",
      " ['Congo (Brazzaville)', 'Congo (Kinshasa)', 'Diamond Princess', 'Eswatini', 'Holy See', 'North Macedonia', 'West Bank and Gaza', 'Kosovo', 'MS Zaandam']\n",
      "\n",
      "\n",
      "These names are in death_rates but not in jh:\n",
      " ['Lesotho', 'Swaziland', 'Isle of Man', 'Saint Pierre and Miquelon', 'Congo, Democratic Republic of the', 'Congo, Republic of the', 'Korea, North', 'Macedonia', 'Guernsey', 'Faroe Islands', 'Greenland', 'Bermuda', 'Puerto Rico', 'Gibraltar', 'Tuvalu', 'Cook Islands', 'Curacao', 'Aruba', 'Palau', 'Jersey', 'Virgin Islands', 'Saint Helena, Ascension, and Tristan da Cunha', 'Hong Kong', 'Comoros', 'Kiribati', 'Montserrat', 'Turkmenistan', 'Tajikistan', 'Guam', 'American Samoa', 'Nauru', 'Cayman Islands', 'New Caledonia', 'Wallis and Futuna', 'Samoa', 'French Polynesia', 'Sint Maarten', 'British Virgin Islands', 'Falkland Islands (Islas Malvinas)', 'Tonga', 'Northern Mariana Islands', 'Anguilla', 'Macau', 'Micronesia, Federated States of', 'Marshall Islands', 'Vanuatu', 'Solomon Islands', 'West Bank', 'Turks and Caicos Islands', 'Gaza Strip']\n",
      "\n",
      "\n"
     ]
    }
   ],
   "source": [
    "# Defining lists of country names in individual data sets\n",
    "jh = []\n",
    "emojis = []\n",
    "population = []\n",
    "deaths = []\n",
    "\n",
    "# Loading data into those lists\n",
    "    # loading as pandas df's\n",
    "        # Corona Data\n",
    "jh_df = pd.read_csv(\"../data/recovered.csv\")\n",
    "jh_series = jh_df[\"Country/Region\"]\n",
    "jh = jh_series.values.tolist()\n",
    "\n",
    "        # population data\n",
    "pop_df = pd.read_csv(\"../data/populations.csv\", sep=\";\")\n",
    "pop_series = pop_df[\"Country (or dependency)\"]\n",
    "population = pop_series.values.tolist()\n",
    "\n",
    "        # deathrate data\n",
    "death_df = pd.read_csv(\"../data/death_rates.csv\", sep=\";\")\n",
    "death_series = death_df[\"countries\"]\n",
    "deaths = death_series.values.tolist()\n",
    "\n",
    "    # Loading emoji_names from pickled list\n",
    "with open(\"../storage/emoji_names.pkl\", \"rb\") as f:\n",
    "    emojis = pickle.load(f)\n",
    "\n",
    "# checking which names that are in jh are not in other data sets and vice versa\n",
    "name_lists = {\n",
    "    \"emojis\" : emojis, \n",
    "    \"population\" : population,\n",
    "    \"death_rates\" : deaths\n",
    "}\n",
    "    \n",
    "for namelist_name, name_list in name_lists.items():\n",
    "    outliers = []\n",
    "    for name in jh:\n",
    "        if name not in name_list:\n",
    "            outliers.append(name)\n",
    "    \n",
    "    print(f\"These names are in jh but not in {namelist_name}:\\n {outliers}\\n\\n\")\n",
    "    \n",
    "    outliers.clear()\n",
    "    for name in name_list:\n",
    "        if name not in jh:\n",
    "            outliers.append(name)\n",
    "            \n",
    "    print(f\"These names are in {namelist_name} but not in jh:\\n {outliers}\\n\\n\")"
   ]
  },
  {
   "cell_type": "markdown",
   "metadata": {},
   "source": [
    "### Clean up\n",
    "\n",
    "__Goal:__ Create and store clean pd df's for deathrate, population and emoji data.\n",
    "\n",
    "- [ ] First I'll manually change the names in the deathrate, population and emoji data to the corresponding names in the jh data.\n",
    "- [ ] Then I'll drop irrelevant colums and store the data as pd df's"
   ]
  },
  {
   "cell_type": "code",
   "execution_count": 9,
   "metadata": {},
   "outputs": [],
   "source": [
    "# create final emojis dict\n",
    "# ...\n",
    "\n",
    "# create final population df\n",
    "final_pop_df = pop_df[[\"Country (or dependency)\", \"Population (2020)\"]]\n",
    "final_pop_df.columns = [\"country\", \"population\"]\n",
    "\n",
    "# store final pouplation df\n",
    "with open(\"../storage/populations_df.pkl\", \"wb\") as f:\n",
    "    pickle.dump(final_pop_df, f)\n",
    "    \n",
    "# store final deathrate df\n",
    "with open(\"../storage/deaths_df.pkl\", \"wb\") as f:\n",
    "    pickle.dump(death_df, f)\n"
   ]
  },
  {
   "cell_type": "code",
   "execution_count": null,
   "metadata": {},
   "outputs": [],
   "source": []
  }
 ],
 "metadata": {
  "kernelspec": {
   "display_name": "Python 3",
   "language": "python",
   "name": "python3"
  },
  "language_info": {
   "codemirror_mode": {
    "name": "ipython",
    "version": 3
   },
   "file_extension": ".py",
   "mimetype": "text/x-python",
   "name": "python",
   "nbconvert_exporter": "python",
   "pygments_lexer": "ipython3",
   "version": "3.7.6"
  }
 },
 "nbformat": 4,
 "nbformat_minor": 4
}
