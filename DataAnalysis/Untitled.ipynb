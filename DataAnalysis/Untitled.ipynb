{
 "cells": [
  {
   "cell_type": "markdown",
   "metadata": {},
   "source": [
    "<h1 style=\"color:#069\">Data Preperation - Description</h1>\n",
    "\n",
    "<h2 style=\"color:#777\">Data Organisation</h2>\n",
    "\n",
    "The Data will be organized into 10 Data Frames. \n",
    "\n",
    "* 4 Data frames for deats , infected, active, and recovered cases per country\n",
    "* 4 Data frames for the data above in relation to the countries population counts\n",
    "* 1 Data Frame with the Total population counts of the countries that we are regarding\n",
    "* 1 Data Frame with the average deaths per year for each country\n",
    "\n",
    "The first 8 Data frames will be time series. The data updates from the John Hopkins Universety will be added to the time series by the data updater. To generate the plots, The data manager just has to extract the right rows from the time series. "
   ]
  },
  {
   "cell_type": "code",
   "execution_count": null,
   "metadata": {},
   "outputs": [],
   "source": []
  }
 ],
 "metadata": {
  "kernelspec": {
   "display_name": "Python 3",
   "language": "python",
   "name": "python3"
  },
  "language_info": {
   "codemirror_mode": {
    "name": "ipython",
    "version": 3
   },
   "file_extension": ".py",
   "mimetype": "text/x-python",
   "name": "python",
   "nbconvert_exporter": "python",
   "pygments_lexer": "ipython3",
   "version": "3.7.6"
  }
 },
 "nbformat": 4,
 "nbformat_minor": 4
}
