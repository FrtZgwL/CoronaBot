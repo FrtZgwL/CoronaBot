{
 "cells": [
  {
   "cell_type": "markdown",
   "metadata": {},
   "source": [
    "<h2 style=\"color:#777\">Functions</h2>\n",
    "\n",
    "- [ ] **update_data()**\n",
    "\n",
    "> Get the data needed from JH \n",
    "\n",
    "\n",
    "- [ ]  **per_population()** \n",
    "\n",
    "> Receives a list of countries to compare\n",
    "> Return plot of category \"dead\", \"cured\", \"infected\" or \"active\"\n",
    "> (absolute value of category)/100.000 (x-Axis: dates)\n",
    "\n",
    "\n",
    "- [ ] **since_outbreak()**\n",
    "\n",
    "> Receives a list of countries to compare\n",
    "> Return plot of category \"dead\", \"cured\", \"infected\" or \"active\"\n",
    "> (absolute value of category)/100.000 from the day of the 100th case (x-Axis: days)\n",
    "\n",
    "\n",
    "- [ ] **compare_deaths()**\n",
    "\n",
    "> Receives a list of countries to compare\n",
    "> Returns list of piechart diagrams that show:\n",
    "> > Total Corona deaths vs all other deaths, since the frst Corona Cases\n",
    "> Assumptions:\n",
    "> > * an average amount of people died since the first corona cases\n",
    "> > * all people that are listed under corona-deaths would not have died otherwise\n",
    "> Conclusion: Total amount of deaths since the first corona cases is the average amount of deaths + the deaths from corona\n"
   ]
  },
  {
   "cell_type": "code",
   "execution_count": null,
   "metadata": {},
   "outputs": [],
   "source": []
  }
 ],
 "metadata": {
  "kernelspec": {
   "display_name": "Python 3",
   "language": "python",
   "name": "python3"
  },
  "language_info": {
   "codemirror_mode": {
    "name": "ipython",
    "version": 3
   },
   "file_extension": ".py",
   "mimetype": "text/x-python",
   "name": "python",
   "nbconvert_exporter": "python",
   "pygments_lexer": "ipython3",
   "version": "3.7.6"
  }
 },
 "nbformat": 4,
 "nbformat_minor": 4
}
